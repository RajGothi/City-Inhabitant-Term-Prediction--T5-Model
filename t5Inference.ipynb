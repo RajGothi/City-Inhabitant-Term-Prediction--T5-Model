{
 "cells": [
  {
   "cell_type": "code",
   "execution_count": 1,
   "metadata": {},
   "outputs": [],
   "source": [
    "import pandas as pd\n",
    "import torch\n",
    "from transformers import  T5ForConditionalGeneration,Adafactor, T5Tokenizer,AutoTokenizer\n",
    "import time\n",
    "import warnings\n",
    "warnings.filterwarnings('ignore')\n",
    "from IPython.display import HTML, display\n",
    "import os"
   ]
  },
  {
   "cell_type": "code",
   "execution_count": 12,
   "metadata": {},
   "outputs": [],
   "source": [
    "model_checkpoint=\"../train_t5/flanT5checkpoint100.bin\""
   ]
  },
  {
   "cell_type": "code",
   "execution_count": 13,
   "metadata": {},
   "outputs": [],
   "source": [
    "# model_phoneme_checkpoint = \"../checkpoint/full_phoneme_split_normal_weight_decay_lr_4_T5_small/flanT5checkpoint400.bin\""
   ]
  },
  {
   "cell_type": "code",
   "execution_count": 14,
   "metadata": {},
   "outputs": [],
   "source": [
    "model=T5ForConditionalGeneration.from_pretrained(model_checkpoint,return_dict=True,config=\"../config_flanT5_small.json\")"
   ]
  },
  {
   "cell_type": "code",
   "execution_count": 109,
   "metadata": {},
   "outputs": [],
   "source": [
    "# model_phoneme = T5ForConditionalGeneration.from_pretrained(model_phoneme_checkpoint,return_dict=True,config=\"./config_flanT5_small.json\")"
   ]
  },
  {
   "cell_type": "code",
   "execution_count": 10,
   "metadata": {},
   "outputs": [],
   "source": [
    "model_config=\"google/flan-t5-small\""
   ]
  },
  {
   "cell_type": "code",
   "execution_count": 11,
   "metadata": {},
   "outputs": [],
   "source": [
    "tokenizer=AutoTokenizer.from_pretrained(model_config)"
   ]
  },
  {
   "cell_type": "code",
   "execution_count": 119,
   "metadata": {},
   "outputs": [],
   "source": [
    "val_df=pd.read_csv('../test.csv')\n",
    "# val_df = pd.read_csv('../validation.csv')"
   ]
  },
  {
   "cell_type": "code",
   "execution_count": 120,
   "metadata": {},
   "outputs": [
    {
     "data": {
      "text/html": [
       "<div>\n",
       "<style scoped>\n",
       "    .dataframe tbody tr th:only-of-type {\n",
       "        vertical-align: middle;\n",
       "    }\n",
       "\n",
       "    .dataframe tbody tr th {\n",
       "        vertical-align: top;\n",
       "    }\n",
       "\n",
       "    .dataframe thead th {\n",
       "        text-align: right;\n",
       "    }\n",
       "</style>\n",
       "<table border=\"1\" class=\"dataframe\">\n",
       "  <thead>\n",
       "    <tr style=\"text-align: right;\">\n",
       "      <th></th>\n",
       "      <th>Unnamed: 0</th>\n",
       "      <th>city</th>\n",
       "      <th>term</th>\n",
       "      <th>country</th>\n",
       "    </tr>\n",
       "  </thead>\n",
       "  <tbody>\n",
       "    <tr>\n",
       "      <th>0</th>\n",
       "      <td>0</td>\n",
       "      <td>pyongyang</td>\n",
       "      <td>pyongyangite</td>\n",
       "      <td>North Korea</td>\n",
       "    </tr>\n",
       "    <tr>\n",
       "      <th>1</th>\n",
       "      <td>1</td>\n",
       "      <td>putney</td>\n",
       "      <td>putneyite</td>\n",
       "      <td>NaN</td>\n",
       "    </tr>\n",
       "    <tr>\n",
       "      <th>2</th>\n",
       "      <td>2</td>\n",
       "      <td>winston salem</td>\n",
       "      <td>winston salemite</td>\n",
       "      <td>United States</td>\n",
       "    </tr>\n",
       "    <tr>\n",
       "      <th>3</th>\n",
       "      <td>3</td>\n",
       "      <td>chennai</td>\n",
       "      <td>chennaiite</td>\n",
       "      <td>India</td>\n",
       "    </tr>\n",
       "    <tr>\n",
       "      <th>4</th>\n",
       "      <td>4</td>\n",
       "      <td>ann arbor</td>\n",
       "      <td>ann arborite</td>\n",
       "      <td>NaN</td>\n",
       "    </tr>\n",
       "    <tr>\n",
       "      <th>...</th>\n",
       "      <td>...</td>\n",
       "      <td>...</td>\n",
       "      <td>...</td>\n",
       "      <td>...</td>\n",
       "    </tr>\n",
       "    <tr>\n",
       "      <th>157</th>\n",
       "      <td>157</td>\n",
       "      <td>rampur</td>\n",
       "      <td>rampuri</td>\n",
       "      <td>India</td>\n",
       "    </tr>\n",
       "    <tr>\n",
       "      <th>158</th>\n",
       "      <td>158</td>\n",
       "      <td>bijaipur</td>\n",
       "      <td>bijapuri</td>\n",
       "      <td>India</td>\n",
       "    </tr>\n",
       "    <tr>\n",
       "      <th>159</th>\n",
       "      <td>159</td>\n",
       "      <td>birganj</td>\n",
       "      <td>birganji</td>\n",
       "      <td>Nepal</td>\n",
       "    </tr>\n",
       "    <tr>\n",
       "      <th>160</th>\n",
       "      <td>160</td>\n",
       "      <td>kaposvar</td>\n",
       "      <td>kaposvari</td>\n",
       "      <td>Hungary</td>\n",
       "    </tr>\n",
       "    <tr>\n",
       "      <th>161</th>\n",
       "      <td>161</td>\n",
       "      <td>indore</td>\n",
       "      <td>indori</td>\n",
       "      <td>India</td>\n",
       "    </tr>\n",
       "  </tbody>\n",
       "</table>\n",
       "<p>162 rows × 4 columns</p>\n",
       "</div>"
      ],
      "text/plain": [
       "     Unnamed: 0           city              term        country\n",
       "0             0      pyongyang      pyongyangite    North Korea\n",
       "1             1         putney         putneyite            NaN\n",
       "2             2  winston salem  winston salemite  United States\n",
       "3             3        chennai        chennaiite          India\n",
       "4             4      ann arbor      ann arborite            NaN\n",
       "..          ...            ...               ...            ...\n",
       "157         157         rampur           rampuri          India\n",
       "158         158       bijaipur          bijapuri          India\n",
       "159         159        birganj          birganji          Nepal\n",
       "160         160       kaposvar         kaposvari        Hungary\n",
       "161         161         indore            indori          India\n",
       "\n",
       "[162 rows x 4 columns]"
      ]
     },
     "execution_count": 120,
     "metadata": {},
     "output_type": "execute_result"
    }
   ],
   "source": [
    "val_df"
   ]
  },
  {
   "cell_type": "code",
   "execution_count": 121,
   "metadata": {},
   "outputs": [],
   "source": [
    "def remove_sep(x):\n",
    "   x = x.replace('<SEP>','')\n",
    "  #  print(x)\n",
    "   return x\n",
    "def normal(df):\n",
    "   df[\"city\"]= df['city'].map(remove_sep)"
   ]
  },
  {
   "cell_type": "code",
   "execution_count": 122,
   "metadata": {},
   "outputs": [],
   "source": [
    "normal(val_df)"
   ]
  },
  {
   "cell_type": "code",
   "execution_count": 68,
   "metadata": {},
   "outputs": [],
   "source": [
    "# from g2p_en import G2p\n",
    "\n",
    "# phoneme_list = []\n",
    "\n",
    "# def word_to_ipa(word):\n",
    "#     g2p = G2p()  # Initialize the G2P model\n",
    "#     ipa = g2p(word)  # Convert the word to IPA\n",
    "#     return \" \".join(ipa)\n",
    "\n",
    "# ipa = word_to_ipa(\"tokyo\")\n",
    "# phoneme_list.append(ipa)\n",
    "# print(ipa)"
   ]
  },
  {
   "cell_type": "code",
   "execution_count": 123,
   "metadata": {},
   "outputs": [],
   "source": [
    "def generate(word):\n",
    "    input_ids=tokenizer.encode('predict demonym: ',word,return_tensors=\"pt\")\n",
    "    outputs=model.generate(input_ids)\n",
    "    gen_text=tokenizer.decode(outputs[0]).replace('<pad>','').replace('</s>','')\n",
    "    gen_text=gen_text.strip()\n",
    "    return gen_text"
   ]
  },
  {
   "cell_type": "code",
   "execution_count": 70,
   "metadata": {},
   "outputs": [],
   "source": [
    "# def generate_phoneme(word,phoneme):\n",
    "#     input_ids=tokenizer.encode('predict demonym: ',word + '<SEP>' + phoneme,return_tensors=\"pt\")\n",
    "#     outputs=model_phoneme.generate(input_ids)\n",
    "#     gen_text=tokenizer.decode(outputs[0]).replace('<pad>','').replace('</s>','')\n",
    "#     gen_text=gen_text.strip()\n",
    "#     return gen_text\n"
   ]
  },
  {
   "cell_type": "code",
   "execution_count": 71,
   "metadata": {},
   "outputs": [
    {
     "data": {
      "text/plain": [
       "'newyorker'"
      ]
     },
     "execution_count": 71,
     "metadata": {},
     "output_type": "execute_result"
    }
   ],
   "source": [
    "# generate(\"newyork\")"
   ]
  },
  {
   "cell_type": "code",
   "execution_count": 72,
   "metadata": {},
   "outputs": [],
   "source": [
    "# !pip install gradio"
   ]
  },
  {
   "cell_type": "code",
   "execution_count": 124,
   "metadata": {},
   "outputs": [
    {
     "name": "stderr",
     "output_type": "stream",
     "text": [
      "Processing: 100%|██████████| 162/162 [00:12<00:00, 12.71it/s]"
     ]
    },
    {
     "name": "stdout",
     "output_type": "stream",
     "text": [
      "accuracy: 42.592592592592595\n"
     ]
    },
    {
     "name": "stderr",
     "output_type": "stream",
     "text": [
      "\n"
     ]
    }
   ],
   "source": [
    "from tqdm import tqdm\n",
    "\n",
    "correctcount = 0\n",
    "totalcount = len(val_df)\n",
    "prediction = []\n",
    "yesno = []\n",
    "\n",
    "for _, row in tqdm(val_df.iterrows(), total=totalcount, desc=\"Processing\"):\n",
    "    # print(row[1])\n",
    "    ans = generate(row[1])\n",
    "    prediction.append(ans)\n",
    "    special_character = \"\\u2581\"  # Unicode code point for the character ▁\n",
    "    val = row[2].replace(special_character, \"\").strip()\n",
    "    if ans == val:\n",
    "        correctcount += 1\n",
    "        yesno.append('yes')\n",
    "    else:\n",
    "        yesno.append('no')\n",
    "\n",
    "accuracy = (correctcount / totalcount) * 100\n",
    "print(\"accuracy:\", accuracy)"
   ]
  },
  {
   "cell_type": "code",
   "execution_count": 125,
   "metadata": {},
   "outputs": [],
   "source": [
    "import gradio as gr  # Replace with your model import"
   ]
  },
  {
   "cell_type": "code",
   "execution_count": 27,
   "metadata": {},
   "outputs": [],
   "source": [
    "def predict(text):\n",
    "    prediction=generate(text)\n",
    "    return prediction"
   ]
  },
  {
   "cell_type": "code",
   "execution_count": 126,
   "metadata": {},
   "outputs": [],
   "source": [
    "outputs = gr.outputs.Textbox()\n",
    "app = gr.Interface(fn=predict, inputs=['text'], outputs=outputs,description=\"Inhabitant Prediction Model\")"
   ]
  },
  {
   "cell_type": "code",
   "execution_count": null,
   "metadata": {},
   "outputs": [],
   "source": [
    "app.launch()"
   ]
  }
 ],
 "metadata": {
  "kernelspec": {
   "display_name": "nlpp",
   "language": "python",
   "name": "python3"
  },
  "language_info": {
   "codemirror_mode": {
    "name": "ipython",
    "version": 3
   },
   "file_extension": ".py",
   "mimetype": "text/x-python",
   "name": "python",
   "nbconvert_exporter": "python",
   "pygments_lexer": "ipython3",
   "version": "3.11.3"
  },
  "orig_nbformat": 4
 },
 "nbformat": 4,
 "nbformat_minor": 2
}
